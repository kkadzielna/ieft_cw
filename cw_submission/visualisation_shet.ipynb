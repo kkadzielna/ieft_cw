{
 "cells": [
  {
   "cell_type": "markdown",
   "metadata": {},
   "source": [
    "## Visualisation - Static Heterogeneous Sessions\n",
    "In this notebook I reformat the data so that it lends itself to being visualised and analysed. Then I apply  visualisation techniques in order to extract insights from the data."
   ]
  },
  {
   "cell_type": "code",
   "execution_count": null,
   "metadata": {},
   "outputs": [],
   "source": [
    "import scipy as sp\n",
    "from scipy import stats\n",
    "import seaborn as sns \n",
    "import matplotlib.pyplot as plt \n",
    "import statsmodels.api as sm\n",
    "import pandas as pd\n",
    "import numpy as np\n",
    "import glob\n",
    "import os"
   ]
  },
  {
   "cell_type": "markdown",
   "metadata": {},
   "source": [
    "### Preprocessing"
   ]
  },
  {
   "cell_type": "code",
   "execution_count": null,
   "metadata": {},
   "outputs": [],
   "source": [
    "path = r'/home/karolina/ieft_cw/data/shet' \n",
    "all_files = glob.glob(os.path.join(path, '*.csv'))\n",
    "\n",
    "df =pd.DataFrame()\n",
    "df.to_csv(\"shet_1.csv\", 'w')\n",
    "for f in all_files:\n",
    "     if 'avg_bal' in f:\n",
    "          n_rows = sum(1 for row in open(f, 'r'))\n",
    "          row = pd.read_csv(f)\n",
    "          row.to_csv(\"shet_1.csv\", mode='a', index=False, header=True)\n",
    "\n",
    "# df contains the combined static homogenous sessions average final balances sorted by the run description string\n",
    "df = pd.read_csv(\"shet_1.csv\", names = ['run', 'trade', 'best_bid', 'best_offer', 'trader_name0', 'total_profit0', 'traders_number0', 'avg_profit0',\n",
    " 'trader_name1', 'total_profit1', 'traders_number1', 'avg_profit1',\n",
    " 'trader_name2', 'total_profit2', 'traders_number2', 'avg_profit2',\n",
    " 'trader_name3', 'total_profit3', 'traders_number3', 'avg_profit3',\n",
    " 'trader_name4', 'total_profit4', 'traders_number4', 'avg_profit4',\n",
    " 'trader_name5', 'total_profit5', 'traders_number5', 'avg_profit5'])\n",
    "df = df.iloc[1: , :]\n",
    "df = df.sort_values(by=['run'])\n",
    "\n",
    "#the run number, k and F are extracted from the run string and added as columns to the dataframe\n",
    "run_n = [str(i)[5] for i in df['run']]\n",
    "df = df.assign(run_n=run_n)\n",
    "\n",
    "# now the chars are converted to int and then column k\n",
    "k = []\n",
    "for i in df['run']:\n",
    "    j = 7\n",
    "    num_temp = ''\n",
    "    while str(i)[j] != '_':\n",
    "        num_temp = num_temp + str(i)[j]\n",
    "        j = j+1\n",
    "    k.append(int(num_temp))\n",
    "df = df.assign(k=k)\n",
    "\n",
    "# same for F\n",
    "f = [float(str(i)[-3:]) for i in df['run']]\n",
    "df = df.assign(F=f)\n",
    "\n",
    "#drop the run name and and dump to a new csv file\n",
    "df.drop('run', inplace=True, axis=1)\n",
    "df = df.sort_values(by=['run_n', 'k', 'F'])\n",
    "df.to_csv('shet_2.csv', columns = ['trade', 'best_bid', 'best_offer',\n",
    " 'trader_name0', 'total_profit0', 'traders_number0', 'avg_profit0',\n",
    " 'trader_name1', 'total_profit1', 'traders_number1', 'avg_profit1',\n",
    " 'trader_name2', 'total_profit2', 'traders_number2', 'avg_profit2',\n",
    " 'trader_name3', 'total_profit3', 'traders_number3', 'avg_profit3',\n",
    " 'trader_name4', 'total_profit4', 'traders_number4', 'avg_profit4',\n",
    " 'trader_name5', 'total_profit5', 'traders_number5', 'avg_profit5',\n",
    "'run_n', 'k', 'F'])\n",
    "\n",
    "df.drop(['trade', 'best_bid', 'best_offer',\n",
    " 'trader_name0', 'total_profit0', 'traders_number0', 'avg_profit0',\n",
    " 'trader_name2', 'total_profit2', 'traders_number2', 'avg_profit2',\n",
    " 'trader_name3', 'total_profit3', 'traders_number3', 'avg_profit3',\n",
    " 'trader_name4', 'total_profit4', 'traders_number4', 'avg_profit4',\n",
    " 'trader_name5', 'total_profit5', 'traders_number5', 'avg_profit5'], inplace=True, axis=1)\n",
    "\n",
    "df.to_csv('shet_3.csv', columns = [ 'trader_name1', 'total_profit1', 'traders_number1', 'avg_profit1', 'run_n', 'k', 'F'])\n",
    "\n",
    "df.drop(['trader_name1', 'total_profit1', 'traders_number1'], inplace=True, axis=1)\n",
    "df.to_csv('shet_3.csv', columns = [ 'avg_profit1', 'run_n', 'k', 'F'])"
   ]
  },
  {
   "cell_type": "code",
   "execution_count": null,
   "metadata": {},
   "outputs": [],
   "source": [
    "#summarize all runs\n",
    "k_range = np.logspace(1, 10, num=10, base=2)\n",
    "k_range = k_range[1:10]\n",
    "F_range = np.linspace(0.0, 2.0, 10)\n",
    "F_range = [float(str(j)[0:3]) for j in F_range]\n",
    "\n",
    "df_sum = pd.DataFrame(columns=['k', 'F', 'avg_profit'])\n",
    "\n",
    "df_sum['k'] = [k for k in df['k'].head(90)]\n",
    "df_sum['F'] = [f for f in df['F'].head(90)]\n",
    "\n",
    "avg_prof_means = []\n",
    "for index, row in df.iterrows():\n",
    "    if int(row['run_n']) == 0:\n",
    "        avg_prof_means.append(row['avg_profit1'])\n",
    "    else:\n",
    "        avg_prof_means[index%90] += row['avg_profit1']\n",
    "\n",
    "avg_prof_means = [i/10 for i in avg_prof_means]\n",
    "df_sum['avg_profit'] = avg_prof_means\n",
    "\n",
    "df_sum.to_csv('shet_sum.csv', columns = ['k', 'F', 'avg_profit'])"
   ]
  },
  {
   "cell_type": "markdown",
   "metadata": {},
   "source": [
    "### Visualisation"
   ]
  },
  {
   "cell_type": "code",
   "execution_count": null,
   "metadata": {},
   "outputs": [],
   "source": [
    "F_range = np.linspace(0.0, 2.0, 10)\n",
    "for j in F_range:\n",
    "    dfx = df_sum.loc[df_sum['F'] == float(str(j)[0:3])]\n",
    "    plt.plot(dfx['k'], dfx['avg_profit'])"
   ]
  },
  {
   "cell_type": "code",
   "execution_count": null,
   "metadata": {},
   "outputs": [],
   "source": [
    "k_range = np.logspace(1, 10, num=10, base=2)\n",
    "k_range = k_range[1:10]\n",
    "for j in k_range:\n",
    "    dfx = df_sum.loc[df_sum['k'] == j]\n",
    "    plt.plot(dfx['F'], dfx['avg_profit'])"
   ]
  },
  {
   "cell_type": "code",
   "execution_count": null,
   "metadata": {},
   "outputs": [],
   "source": [
    "boxplot = df.boxplot(column='avg_profit1', by = 'k')  \n",
    "boxplot.set_title('')\n",
    "plt.title('')\n",
    "plt.suptitle('')\n",
    "plt.ylabel('average profit per trader')\n",
    "boxplot = plt.show()"
   ]
  },
  {
   "cell_type": "code",
   "execution_count": null,
   "metadata": {},
   "outputs": [],
   "source": [
    "dfF = df.loc[df['F'] == 0.8]\n",
    "dfF.head()\n",
    "boxplot = dfF.boxplot(column='avg_profit1', by = 'k')  \n",
    "boxplot.set_title('')\n",
    "plt.title('')\n",
    "plt.suptitle('')\n",
    "plt.ylabel('average profit per trader')\n",
    "boxplot = plt.show()"
   ]
  },
  {
   "cell_type": "code",
   "execution_count": null,
   "metadata": {},
   "outputs": [],
   "source": [
    "boxplot = df.boxplot(column='avg_profit1', by = 'F')  \n",
    "boxplot.set_title('')\n",
    "plt.title('')\n",
    "plt.suptitle('')\n",
    "plt.ylabel('average profit per trader')\n",
    "boxplot = plt.show()"
   ]
  },
  {
   "cell_type": "code",
   "execution_count": null,
   "metadata": {},
   "outputs": [],
   "source": [
    "dfk = df.loc[df['k'] == 4]\n",
    "dfk.head()\n",
    "boxplot = dfk.boxplot(column='avg_profit1', by = 'F')  \n",
    "boxplot.set_title('')\n",
    "plt.title('')\n",
    "plt.suptitle('')\n",
    "plt.ylabel('average profit per trader')\n",
    "boxplot = plt.show()"
   ]
  },
  {
   "cell_type": "code",
   "execution_count": null,
   "metadata": {},
   "outputs": [],
   "source": [
    "sorted_df = df.sort_values(['avg_profit1'], ascending=False)\n",
    "print(sorted_df.head())\n",
    "sorted_df_sum = df_sum.sort_values(['avg_profit'], ascending=False)\n",
    "print(sorted_df_sum.head())"
   ]
  }
 ],
 "metadata": {
  "kernelspec": {
   "display_name": "Python 3.8.5 ('base')",
   "language": "python",
   "name": "python3"
  },
  "language_info": {
   "codemirror_mode": {
    "name": "ipython",
    "version": 3
   },
   "file_extension": ".py",
   "mimetype": "text/x-python",
   "name": "python",
   "nbconvert_exporter": "python",
   "pygments_lexer": "ipython3",
   "version": "3.8.5"
  },
  "orig_nbformat": 4,
  "vscode": {
   "interpreter": {
    "hash": "e7ec9c76871ceede5c05bdff64cb50b88b78e28a1db20152a31beee30522d330"
   }
  }
 },
 "nbformat": 4,
 "nbformat_minor": 2
}
