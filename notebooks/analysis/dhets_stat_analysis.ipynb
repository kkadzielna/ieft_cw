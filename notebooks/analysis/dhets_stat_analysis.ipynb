{
 "cells": [
  {
   "cell_type": "markdown",
   "metadata": {},
   "source": [
    "## Statististical Analysis for the Data from a Heterogeneous Market with a Rapidly Changing Equilibrium"
   ]
  },
  {
   "cell_type": "code",
   "execution_count": null,
   "metadata": {},
   "outputs": [],
   "source": [
    "import scipy as sp\n",
    "from scipy import stats\n",
    "import seaborn as sns \n",
    "import matplotlib.pyplot as plt \n",
    "import statsmodels.api as sm\n",
    "import pandas as pd\n",
    "import numpy as np\n",
    "import glob\n",
    "import os"
   ]
  },
  {
   "cell_type": "code",
   "execution_count": null,
   "metadata": {},
   "outputs": [],
   "source": [
    "df = pd.read_csv('dhets_3.csv', names = ['avg_profit1', 'run_n', 'k', 'F'])\n",
    "df = df.iloc[1: , :]"
   ]
  },
  {
   "cell_type": "markdown",
   "metadata": {},
   "source": [
    "### Normality"
   ]
  },
  {
   "cell_type": "code",
   "execution_count": null,
   "metadata": {},
   "outputs": [],
   "source": [
    "#determine the distribution of data within a k or F\n",
    "k_range = np.logspace(1, 10, num=10, base=2)\n",
    "k_range = k_range[1:10]\n",
    "k_range = k_range.astype(int)\n",
    "F_range = np.linspace(0.0, 2.0, 10)\n",
    "for k in k_range:\n",
    "    statistic, pvalue = stats.shapiro([x['avg_profit1'] for x in df.iloc if x['k'] == str(k)])\n",
    "    if pvalue < 0.05:\n",
    "        print(\"Condition \" + \"{:}\".format(k) + \n",
    "              \". We can reject the null hypothesis (p=\" + \n",
    "              \"{:.2f}\".format(pvalue) + \n",
    "              \"). Therefore, data is not normally distributed.\")\n",
    "    else:\n",
    "        print(\"Condition \" + \"{:}\".format(k) + \n",
    "              \". We cannot reject the null hypothesis (p=\" + \n",
    "              \"{:.2f}\".format(pvalue) + \n",
    "              \"). Therefore, data is normally distributed.\")\n",
    "\n",
    "for f in F_range:\n",
    "    statistic, pvalue = stats.shapiro([x['avg_profit1'] for x in df.iloc if x['F'] == str(f)[0:3]])\n",
    "    if pvalue < 0.05:\n",
    "        print(\"Condition \" + \"{:}\".format(f) + \n",
    "              \". We can reject the null hypothesis (p=\" + \n",
    "              \"{:.2f}\".format(pvalue) + \n",
    "              \"). Therefore, data is not normally distributed.\")\n",
    "    else:\n",
    "        print(\"Condition \" + \"{:}\".format(f) + \n",
    "              \". We cannot reject the null hypothesis (p=\" + \n",
    "              \"{:.2f}\".format(pvalue) + \n",
    "              \"). Therefore, data is normally distributed.\")"
   ]
  },
  {
   "cell_type": "code",
   "execution_count": null,
   "metadata": {},
   "outputs": [],
   "source": [
    "normal_count = 0\n",
    "not_normal_count = 0\n",
    "for k in k_range:\n",
    "    for f in F_range:\n",
    "        statistic, pvalue = stats.shapiro([x['avg_profit1'] for x in df.iloc if (x['k'] == str(k) and x['F'] == str(f)[0:3])])\n",
    "        if pvalue < 0.05:\n",
    "            print(\"Condition \" + \"{:}\".format(k) + \" \" + \"{:}\".format(str(f)[0:3]) +\n",
    "                \". We can reject the null hypothesis (p=\" + \n",
    "                \"{:.2f}\".format(pvalue) + \n",
    "                \"). Therefore, data is not normally distributed.\")\n",
    "            not_normal_count = not_normal_count + 1\n",
    "        else:\n",
    "            print(\"Condition \" + \"{:}\".format(k) + \" \" + \"{:}\".format(str(f)[0:3]) +\n",
    "                \". We cannot reject the null hypothesis (p=\" + \n",
    "                \"{:.2f}\".format(pvalue) + \n",
    "                \"). Therefore, data is normally distributed.\")\n",
    "            normal_count = normal_count + 1\n",
    "print(normal_count)\n",
    "print(not_normal_count)"
   ]
  },
  {
   "cell_type": "markdown",
   "metadata": {},
   "source": [
    "### Hypothesis testing"
   ]
  },
  {
   "cell_type": "code",
   "execution_count": null,
   "metadata": {},
   "outputs": [],
   "source": [
    "by_ks = pd.DataFrame(columns=k_range)\n",
    "print(by_ks)\n",
    "temp = []\n",
    "for i in k_range:\n",
    "    for x in df.iloc:\n",
    "        if x['k'] == str(i):\n",
    "            temp.append(x['avg_profit1'])\n",
    "    by_ks[i] = temp\n",
    "    temp = []\n",
    "\n",
    "by_ks.head()"
   ]
  },
  {
   "cell_type": "code",
   "execution_count": null,
   "metadata": {},
   "outputs": [],
   "source": [
    "F_range = [float(str(j)[0:3]) for j in F_range]\n",
    "by_fs = pd.DataFrame(columns=F_range)\n",
    "print(by_fs)\n",
    "temp = []\n",
    "for i in F_range:\n",
    "    for x in df.iloc:\n",
    "        if x['F'] == str(i):\n",
    "            temp.append(x['avg_profit1'])\n",
    "    by_fs[i] = temp\n",
    "    temp = []\n",
    "\n",
    "by_fs.head()"
   ]
  },
  {
   "cell_type": "markdown",
   "metadata": {},
   "source": [
    "##### Kruskal-Wallis"
   ]
  },
  {
   "cell_type": "code",
   "execution_count": null,
   "metadata": {},
   "outputs": [],
   "source": [
    "statistics, pvalue = stats.kruskal(by_ks[4], by_ks[8],by_ks[16],by_ks[32], by_ks[64], by_ks[128], by_ks[256], by_ks[512], by_ks[1024])\n",
    "if pvalue < 0.05:\n",
    "    print(\"KW: (p=\" + \"{:.2f}\".format(pvalue) + \n",
    "          \" < 0.05). Reject null. The groups have a \" +\n",
    "          \"different population mean.\") \n",
    "else:\n",
    "    print(\"KW: (p=\" + \"{:.2f}\".format(pvalue) + \n",
    "          \" > 0.05). Cannot reject null hypothesis \" + \n",
    "          \"that groups have same population mean.\")"
   ]
  },
  {
   "cell_type": "code",
   "execution_count": null,
   "metadata": {},
   "outputs": [],
   "source": [
    "statistics, pvalue =  stats.kruskal(by_fs[0.0], by_fs[0.2], by_fs[0.4], by_fs[0.6], by_fs[0.8], by_fs[1.1], by_fs[1.3], by_fs[1.5], by_fs[1.7], by_fs[2.0])\n",
    "if pvalue < 0.05:\n",
    "    print(\"KW: (p=\" + \"{:.2f}\".format(pvalue) + \n",
    "          \" < 0.05). Reject null. The groups have a \" +\n",
    "          \"different population mean.\") \n",
    "else:\n",
    "    print(\"KW: (p=\" + \"{:.2f}\".format(pvalue) + \n",
    "          \" > 0.05). Cannot reject null hypothesis \" + \n",
    "          \"that groups have same population mean.\")"
   ]
  }
 ],
 "metadata": {
  "kernelspec": {
   "display_name": "Python 3.8.5 ('base')",
   "language": "python",
   "name": "python3"
  },
  "language_info": {
   "codemirror_mode": {
    "name": "ipython",
    "version": 3
   },
   "file_extension": ".py",
   "mimetype": "text/x-python",
   "name": "python",
   "nbconvert_exporter": "python",
   "pygments_lexer": "ipython3",
   "version": "3.8.5"
  },
  "orig_nbformat": 4,
  "vscode": {
   "interpreter": {
    "hash": "e7ec9c76871ceede5c05bdff64cb50b88b78e28a1db20152a31beee30522d330"
   }
  }
 },
 "nbformat": 4,
 "nbformat_minor": 2
}
