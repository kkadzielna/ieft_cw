{
 "cells": [
  {
   "cell_type": "code",
   "execution_count": 1,
   "metadata": {},
   "outputs": [],
   "source": [
    "import matplotlib.pyplot as plt\n",
    "import numpy as np\n",
    "import csv\n",
    "import math\n",
    "import random\n",
    "\n",
    "import scipy as sp\n",
    "from scipy import stats\n",
    "import seaborn as sns \n",
    "import matplotlib.pyplot as plt \n",
    "import statsmodels.api as sm\n",
    "import pandas as pd\n",
    "\n",
    "#from BSE import market_session\n",
    "import BSE\n",
    "import helpers"
   ]
  },
  {
   "cell_type": "code",
   "execution_count": 2,
   "metadata": {},
   "outputs": [],
   "source": [
    "BSE.Trader_PRZI.verbose = False"
   ]
  },
  {
   "cell_type": "markdown",
   "metadata": {},
   "source": [
    "Required changes in the BSE code"
   ]
  },
  {
   "cell_type": "code",
   "execution_count": 2,
   "metadata": {},
   "outputs": [],
   "source": [
    "def static_homogeneous_session(k, F, trial_id_str, csv_str):\n",
    "    # First, configure the trader specifications\n",
    "    sellers_spec = [('PRDE', 20, {'k': k, 's_min': -1.0, 's_max': +1.0, 'F': F})]\n",
    "    buyers_spec = sellers_spec\n",
    "    traders_spec = {'sellers':sellers_spec, 'buyers':buyers_spec}\n",
    "\n",
    "    # Next, confiure the supply and demand (and plot it)\n",
    "    sup_range = (100, 200)\n",
    "    dem_range = sup_range\n",
    "\n",
    "    # Next, configure order schedules\n",
    "\n",
    "    start_time = 0\n",
    "    end_time = 60 * 3\n",
    "    supply_schedule = [{'from': start_time, 'to': end_time, 'ranges': [sup_range], 'stepmode': 'fixed'}]\n",
    "    demand_schedule = [{'from': start_time, 'to': end_time, 'ranges': [dem_range], 'stepmode': 'fixed'}]\n",
    "\n",
    "    order_interval = 10\n",
    "    order_sched = {'sup': supply_schedule, 'dem': demand_schedule,\n",
    "               'interval': order_interval, 'timemode': 'periodic'}\n",
    "\n",
    "    trial_id = trial_id_str\n",
    "    tdump = open(csv_str,'w')\n",
    "    dump_all = True\n",
    "    verbose = False\n",
    "\n",
    "    # Now, run the market session\n",
    "    BSE.market_session(trial_id, start_time, end_time, traders_spec, order_sched, tdump, dump_all, verbose)\n",
    "\n",
    "    tdump.close()"
   ]
  },
  {
   "cell_type": "code",
   "execution_count": 3,
   "metadata": {},
   "outputs": [
    {
     "name": "stdout",
     "output_type": "stream",
     "text": [
      "142.025\n"
     ]
    }
   ],
   "source": [
    "random.seed(2)\n",
    "static_homogeneous_session(4, 1.0, 'test_9', 'test_9_avg_balance.csv')\n",
    "df = pd.read_csv('test_9_avg_balance.csv')\n",
    "print(df.iloc[:,7].max())"
   ]
  }
 ],
 "metadata": {
  "kernelspec": {
   "display_name": "Python 3.8.5 ('base')",
   "language": "python",
   "name": "python3"
  },
  "language_info": {
   "codemirror_mode": {
    "name": "ipython",
    "version": 3
   },
   "file_extension": ".py",
   "mimetype": "text/x-python",
   "name": "python",
   "nbconvert_exporter": "python",
   "pygments_lexer": "ipython3",
   "version": "3.8.5"
  },
  "orig_nbformat": 4,
  "vscode": {
   "interpreter": {
    "hash": "e7ec9c76871ceede5c05bdff64cb50b88b78e28a1db20152a31beee30522d330"
   }
  }
 },
 "nbformat": 4,
 "nbformat_minor": 2
}
