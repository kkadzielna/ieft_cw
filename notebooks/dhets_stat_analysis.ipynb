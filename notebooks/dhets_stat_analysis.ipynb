{
 "cells": [
  {
   "cell_type": "markdown",
   "metadata": {},
   "source": [
    "## Statististical Analysis for the static homogeneous market data\n",
    "+ is the data normally distriuted\n",
    "+ statistical testing\n",
    "+ summary"
   ]
  },
  {
   "cell_type": "code",
   "execution_count": 1,
   "metadata": {},
   "outputs": [],
   "source": [
    "import scipy as sp\n",
    "from scipy import stats\n",
    "import seaborn as sns \n",
    "import matplotlib.pyplot as plt \n",
    "import statsmodels.api as sm\n",
    "import pandas as pd\n",
    "import numpy as np\n",
    "import glob\n",
    "import os"
   ]
  },
  {
   "cell_type": "code",
   "execution_count": 2,
   "metadata": {},
   "outputs": [
    {
     "data": {
      "text/html": [
       "<div>\n",
       "<style scoped>\n",
       "    .dataframe tbody tr th:only-of-type {\n",
       "        vertical-align: middle;\n",
       "    }\n",
       "\n",
       "    .dataframe tbody tr th {\n",
       "        vertical-align: top;\n",
       "    }\n",
       "\n",
       "    .dataframe thead th {\n",
       "        text-align: right;\n",
       "    }\n",
       "</style>\n",
       "<table border=\"1\" class=\"dataframe\">\n",
       "  <thead>\n",
       "    <tr style=\"text-align: right;\">\n",
       "      <th></th>\n",
       "      <th>avg_profit1</th>\n",
       "      <th>run_n</th>\n",
       "      <th>k</th>\n",
       "      <th>F</th>\n",
       "    </tr>\n",
       "  </thead>\n",
       "  <tbody>\n",
       "    <tr>\n",
       "      <th>591.0</th>\n",
       "      <td>286.4</td>\n",
       "      <td>0</td>\n",
       "      <td>4</td>\n",
       "      <td>0.0</td>\n",
       "    </tr>\n",
       "    <tr>\n",
       "      <th>412.0</th>\n",
       "      <td>277.4</td>\n",
       "      <td>0</td>\n",
       "      <td>4</td>\n",
       "      <td>0.2</td>\n",
       "    </tr>\n",
       "    <tr>\n",
       "      <th>111.0</th>\n",
       "      <td>185.8</td>\n",
       "      <td>0</td>\n",
       "      <td>4</td>\n",
       "      <td>0.4</td>\n",
       "    </tr>\n",
       "    <tr>\n",
       "      <th>848.0</th>\n",
       "      <td>413.3</td>\n",
       "      <td>0</td>\n",
       "      <td>4</td>\n",
       "      <td>0.6</td>\n",
       "    </tr>\n",
       "    <tr>\n",
       "      <th>85.0</th>\n",
       "      <td>145.9</td>\n",
       "      <td>0</td>\n",
       "      <td>4</td>\n",
       "      <td>0.8</td>\n",
       "    </tr>\n",
       "  </tbody>\n",
       "</table>\n",
       "</div>"
      ],
      "text/plain": [
       "      avg_profit1 run_n  k    F\n",
       "591.0       286.4     0  4  0.0\n",
       "412.0       277.4     0  4  0.2\n",
       "111.0       185.8     0  4  0.4\n",
       "848.0       413.3     0  4  0.6\n",
       "85.0        145.9     0  4  0.8"
      ]
     },
     "execution_count": 2,
     "metadata": {},
     "output_type": "execute_result"
    }
   ],
   "source": [
    "df = pd.read_csv('dhets_3.csv', names = ['avg_profit1', 'run_n', 'k', 'F'])\n",
    "df = df.iloc[1: , :]\n",
    "df.head()"
   ]
  },
  {
   "cell_type": "markdown",
   "metadata": {},
   "source": [
    "### Normality"
   ]
  },
  {
   "cell_type": "code",
   "execution_count": 4,
   "metadata": {},
   "outputs": [
    {
     "name": "stdout",
     "output_type": "stream",
     "text": [
      "Condition 4. We can reject the null hypothesis (p=0.00). Therefore, data is not normally distributed.\n",
      "Condition 8. We can reject the null hypothesis (p=0.01). Therefore, data is not normally distributed.\n"
     ]
    },
    {
     "name": "stderr",
     "output_type": "stream",
     "text": [
      "/home/karolina/anaconda3/lib/python3.8/site-packages/scipy/stats/morestats.py:1678: UserWarning: Input data for shapiro has range zero. The results may not be accurate.\n",
      "  warnings.warn(\"Input data for shapiro has range zero. The results \"\n"
     ]
    },
    {
     "name": "stdout",
     "output_type": "stream",
     "text": [
      "Condition 16. We cannot reject the null hypothesis (p=1.00). Therefore, data is normally distributed.\n",
      "Condition 32. We cannot reject the null hypothesis (p=1.00). Therefore, data is normally distributed.\n",
      "Condition 64. We cannot reject the null hypothesis (p=1.00). Therefore, data is normally distributed.\n",
      "Condition 128. We can reject the null hypothesis (p=0.00). Therefore, data is not normally distributed.\n",
      "Condition 256. We cannot reject the null hypothesis (p=1.00). Therefore, data is normally distributed.\n",
      "Condition 512. We cannot reject the null hypothesis (p=1.00). Therefore, data is normally distributed.\n",
      "Condition 1024. We cannot reject the null hypothesis (p=1.00). Therefore, data is normally distributed.\n",
      "Condition 0.0. We can reject the null hypothesis (p=0.00). Therefore, data is not normally distributed.\n",
      "Condition 0.2222222222222222. We can reject the null hypothesis (p=0.00). Therefore, data is not normally distributed.\n",
      "Condition 0.4444444444444444. We cannot reject the null hypothesis (p=1.00). Therefore, data is normally distributed.\n",
      "Condition 0.6666666666666666. We cannot reject the null hypothesis (p=1.00). Therefore, data is normally distributed.\n",
      "Condition 0.8888888888888888. We cannot reject the null hypothesis (p=1.00). Therefore, data is normally distributed.\n",
      "Condition 1.1111111111111112. We can reject the null hypothesis (p=0.00). Therefore, data is not normally distributed.\n",
      "Condition 1.3333333333333333. We cannot reject the null hypothesis (p=1.00). Therefore, data is normally distributed.\n",
      "Condition 1.5555555555555554. We cannot reject the null hypothesis (p=1.00). Therefore, data is normally distributed.\n",
      "Condition 1.7777777777777777. We cannot reject the null hypothesis (p=1.00). Therefore, data is normally distributed.\n",
      "Condition 2.0. We cannot reject the null hypothesis (p=1.00). Therefore, data is normally distributed.\n"
     ]
    }
   ],
   "source": [
    "#determine the distribution of data within a k or F\n",
    "#powers of 2 from 4 to 1024 or however much it would be\n",
    "k_range = np.logspace(1, 10, num=10, base=2)\n",
    "k_range = k_range[1:10]\n",
    "k_range = k_range.astype(int)\n",
    "#0 to 2 intervals of 0.2\n",
    "F_range = np.linspace(0.0, 2.0, 10)\n",
    "for k in k_range:\n",
    "    statistic, pvalue = stats.shapiro([x['avg_profit1'] for x in df.iloc if x['k'] == str(k)])\n",
    "    if pvalue < 0.05:\n",
    "        print(\"Condition \" + \"{:}\".format(k) + \n",
    "              \". We can reject the null hypothesis (p=\" + \n",
    "              \"{:.2f}\".format(pvalue) + \n",
    "              \"). Therefore, data is not normally distributed.\")\n",
    "    else:\n",
    "        print(\"Condition \" + \"{:}\".format(k) + \n",
    "              \". We cannot reject the null hypothesis (p=\" + \n",
    "              \"{:.2f}\".format(pvalue) + \n",
    "              \"). Therefore, data is normally distributed.\")\n",
    "\n",
    "for f in F_range:\n",
    "    statistic, pvalue = stats.shapiro([x['avg_profit1'] for x in df.iloc if x['F'] == str(f)[0:3]])\n",
    "    if pvalue < 0.05:\n",
    "        print(\"Condition \" + \"{:}\".format(f) + \n",
    "              \". We can reject the null hypothesis (p=\" + \n",
    "              \"{:.2f}\".format(pvalue) + \n",
    "              \"). Therefore, data is not normally distributed.\")\n",
    "    else:\n",
    "        print(\"Condition \" + \"{:}\".format(f) + \n",
    "              \". We cannot reject the null hypothesis (p=\" + \n",
    "              \"{:.2f}\".format(pvalue) + \n",
    "              \"). Therefore, data is normally distributed.\")"
   ]
  },
  {
   "cell_type": "code",
   "execution_count": 5,
   "metadata": {},
   "outputs": [
    {
     "name": "stdout",
     "output_type": "stream",
     "text": [
      "Condition 4 0.0. We cannot reject the null hypothesis (p=0.37). Therefore, data is normally distributed.\n",
      "Condition 4 0.2. We cannot reject the null hypothesis (p=0.15). Therefore, data is normally distributed.\n",
      "Condition 4 0.4. We cannot reject the null hypothesis (p=0.24). Therefore, data is normally distributed.\n",
      "Condition 4 0.6. We cannot reject the null hypothesis (p=0.58). Therefore, data is normally distributed.\n",
      "Condition 4 0.8. We cannot reject the null hypothesis (p=0.35). Therefore, data is normally distributed.\n",
      "Condition 4 1.1. We cannot reject the null hypothesis (p=0.32). Therefore, data is normally distributed.\n",
      "Condition 4 1.3. We cannot reject the null hypothesis (p=0.80). Therefore, data is normally distributed.\n",
      "Condition 4 1.5. We cannot reject the null hypothesis (p=0.30). Therefore, data is normally distributed.\n",
      "Condition 4 1.7. We cannot reject the null hypothesis (p=1.00). Therefore, data is normally distributed.\n",
      "Condition 4 2.0. We cannot reject the null hypothesis (p=0.39). Therefore, data is normally distributed.\n",
      "Condition 8 0.0. We cannot reject the null hypothesis (p=0.29). Therefore, data is normally distributed.\n",
      "Condition 8 0.2. We cannot reject the null hypothesis (p=0.17). Therefore, data is normally distributed.\n",
      "Condition 8 0.4. We cannot reject the null hypothesis (p=0.39). Therefore, data is normally distributed.\n",
      "Condition 8 0.6. We cannot reject the null hypothesis (p=0.41). Therefore, data is normally distributed.\n",
      "Condition 8 0.8. We cannot reject the null hypothesis (p=0.17). Therefore, data is normally distributed.\n",
      "Condition 8 1.1. We cannot reject the null hypothesis (p=0.09). Therefore, data is normally distributed.\n",
      "Condition 8 1.3. We cannot reject the null hypothesis (p=0.06). Therefore, data is normally distributed.\n",
      "Condition 8 1.5. We cannot reject the null hypothesis (p=0.56). Therefore, data is normally distributed.\n",
      "Condition 8 1.7. We cannot reject the null hypothesis (p=0.84). Therefore, data is normally distributed.\n",
      "Condition 8 2.0. We cannot reject the null hypothesis (p=0.34). Therefore, data is normally distributed.\n",
      "Condition 16 0.0. We cannot reject the null hypothesis (p=0.78). Therefore, data is normally distributed.\n",
      "Condition 16 0.2. We cannot reject the null hypothesis (p=0.59). Therefore, data is normally distributed.\n",
      "Condition 16 0.4. We can reject the null hypothesis (p=0.00). Therefore, data is not normally distributed.\n",
      "Condition 16 0.6. We cannot reject the null hypothesis (p=1.00). Therefore, data is normally distributed.\n",
      "Condition 16 0.8. We cannot reject the null hypothesis (p=1.00). Therefore, data is normally distributed.\n",
      "Condition 16 1.1. We cannot reject the null hypothesis (p=1.00). Therefore, data is normally distributed.\n",
      "Condition 16 1.3. We cannot reject the null hypothesis (p=0.22). Therefore, data is normally distributed.\n",
      "Condition 16 1.5. We cannot reject the null hypothesis (p=1.00). Therefore, data is normally distributed.\n",
      "Condition 16 1.7. We cannot reject the null hypothesis (p=0.25). Therefore, data is normally distributed.\n",
      "Condition 16 2.0. We cannot reject the null hypothesis (p=0.18). Therefore, data is normally distributed.\n",
      "Condition 32 0.0. We cannot reject the null hypothesis (p=1.00). Therefore, data is normally distributed.\n",
      "Condition 32 0.2. We cannot reject the null hypothesis (p=0.11). Therefore, data is normally distributed.\n",
      "Condition 32 0.4. We cannot reject the null hypothesis (p=0.41). Therefore, data is normally distributed.\n",
      "Condition 32 0.6. We cannot reject the null hypothesis (p=0.35). Therefore, data is normally distributed.\n",
      "Condition 32 0.8. We cannot reject the null hypothesis (p=1.00). Therefore, data is normally distributed.\n",
      "Condition 32 1.1. We can reject the null hypothesis (p=0.00). Therefore, data is not normally distributed.\n",
      "Condition 32 1.3. We can reject the null hypothesis (p=0.01). Therefore, data is not normally distributed.\n",
      "Condition 32 1.5. We cannot reject the null hypothesis (p=0.62). Therefore, data is normally distributed.\n",
      "Condition 32 1.7. We cannot reject the null hypothesis (p=1.00). Therefore, data is normally distributed.\n",
      "Condition 32 2.0. We cannot reject the null hypothesis (p=0.95). Therefore, data is normally distributed.\n",
      "Condition 64 0.0. We cannot reject the null hypothesis (p=0.10). Therefore, data is normally distributed.\n",
      "Condition 64 0.2. We cannot reject the null hypothesis (p=1.00). Therefore, data is normally distributed.\n",
      "Condition 64 0.4. We cannot reject the null hypothesis (p=0.68). Therefore, data is normally distributed.\n",
      "Condition 64 0.6. We cannot reject the null hypothesis (p=0.66). Therefore, data is normally distributed.\n",
      "Condition 64 0.8. We cannot reject the null hypothesis (p=0.32). Therefore, data is normally distributed.\n",
      "Condition 64 1.1. We cannot reject the null hypothesis (p=0.11). Therefore, data is normally distributed.\n",
      "Condition 64 1.3. We cannot reject the null hypothesis (p=1.00). Therefore, data is normally distributed.\n",
      "Condition 64 1.5. We cannot reject the null hypothesis (p=0.86). Therefore, data is normally distributed.\n",
      "Condition 64 1.7. We can reject the null hypothesis (p=0.00). Therefore, data is not normally distributed.\n",
      "Condition 64 2.0. We can reject the null hypothesis (p=0.04). Therefore, data is not normally distributed.\n",
      "Condition 128 0.0. We cannot reject the null hypothesis (p=0.58). Therefore, data is normally distributed.\n",
      "Condition 128 0.2. We can reject the null hypothesis (p=0.00). Therefore, data is not normally distributed.\n",
      "Condition 128 0.4. We cannot reject the null hypothesis (p=0.59). Therefore, data is normally distributed.\n",
      "Condition 128 0.6. We cannot reject the null hypothesis (p=1.00). Therefore, data is normally distributed.\n",
      "Condition 128 0.8. We can reject the null hypothesis (p=0.00). Therefore, data is not normally distributed.\n",
      "Condition 128 1.1. We cannot reject the null hypothesis (p=0.12). Therefore, data is normally distributed.\n",
      "Condition 128 1.3. We cannot reject the null hypothesis (p=0.80). Therefore, data is normally distributed.\n",
      "Condition 128 1.5. We cannot reject the null hypothesis (p=0.44). Therefore, data is normally distributed.\n",
      "Condition 128 1.7. We cannot reject the null hypothesis (p=0.71). Therefore, data is normally distributed.\n",
      "Condition 128 2.0. We cannot reject the null hypothesis (p=0.65). Therefore, data is normally distributed.\n",
      "Condition 256 0.0. We cannot reject the null hypothesis (p=0.11). Therefore, data is normally distributed.\n",
      "Condition 256 0.2. We cannot reject the null hypothesis (p=0.23). Therefore, data is normally distributed.\n",
      "Condition 256 0.4. We cannot reject the null hypothesis (p=1.00). Therefore, data is normally distributed.\n",
      "Condition 256 0.6. We cannot reject the null hypothesis (p=1.00). Therefore, data is normally distributed.\n",
      "Condition 256 0.8. We cannot reject the null hypothesis (p=0.07). Therefore, data is normally distributed.\n",
      "Condition 256 1.1. We cannot reject the null hypothesis (p=0.87). Therefore, data is normally distributed.\n",
      "Condition 256 1.3. We cannot reject the null hypothesis (p=0.48). Therefore, data is normally distributed.\n",
      "Condition 256 1.5. We cannot reject the null hypothesis (p=1.00). Therefore, data is normally distributed.\n",
      "Condition 256 1.7. We can reject the null hypothesis (p=0.01). Therefore, data is not normally distributed.\n",
      "Condition 256 2.0. We cannot reject the null hypothesis (p=0.45). Therefore, data is normally distributed.\n",
      "Condition 512 0.0. We cannot reject the null hypothesis (p=0.16). Therefore, data is normally distributed.\n",
      "Condition 512 0.2. We cannot reject the null hypothesis (p=0.34). Therefore, data is normally distributed.\n",
      "Condition 512 0.4. We cannot reject the null hypothesis (p=0.96). Therefore, data is normally distributed.\n",
      "Condition 512 0.6. We can reject the null hypothesis (p=0.02). Therefore, data is not normally distributed.\n",
      "Condition 512 0.8. We cannot reject the null hypothesis (p=0.24). Therefore, data is normally distributed.\n",
      "Condition 512 1.1. We cannot reject the null hypothesis (p=0.54). Therefore, data is normally distributed.\n",
      "Condition 512 1.3. We cannot reject the null hypothesis (p=0.98). Therefore, data is normally distributed.\n",
      "Condition 512 1.5. We cannot reject the null hypothesis (p=1.00). Therefore, data is normally distributed.\n",
      "Condition 512 1.7. We cannot reject the null hypothesis (p=0.57). Therefore, data is normally distributed.\n",
      "Condition 512 2.0. We cannot reject the null hypothesis (p=0.41). Therefore, data is normally distributed.\n",
      "Condition 1024 0.0. We cannot reject the null hypothesis (p=0.86). Therefore, data is normally distributed.\n",
      "Condition 1024 0.2. We can reject the null hypothesis (p=0.04). Therefore, data is not normally distributed.\n",
      "Condition 1024 0.4. We can reject the null hypothesis (p=0.02). Therefore, data is not normally distributed.\n",
      "Condition 1024 0.6. We cannot reject the null hypothesis (p=0.49). Therefore, data is normally distributed.\n",
      "Condition 1024 0.8. We cannot reject the null hypothesis (p=0.40). Therefore, data is normally distributed.\n",
      "Condition 1024 1.1. We can reject the null hypothesis (p=0.00). Therefore, data is not normally distributed.\n",
      "Condition 1024 1.3. We cannot reject the null hypothesis (p=1.00). Therefore, data is normally distributed.\n",
      "Condition 1024 1.5. We cannot reject the null hypothesis (p=0.29). Therefore, data is normally distributed.\n",
      "Condition 1024 1.7. We cannot reject the null hypothesis (p=0.34). Therefore, data is normally distributed.\n",
      "Condition 1024 2.0. We cannot reject the null hypothesis (p=1.00). Therefore, data is normally distributed.\n",
      "78\n",
      "12\n"
     ]
    }
   ],
   "source": [
    "normal_count = 0\n",
    "not_normal_count = 0\n",
    "for k in k_range:\n",
    "    for f in F_range:\n",
    "        statistic, pvalue = stats.shapiro([x['avg_profit1'] for x in df.iloc if (x['k'] == str(k) and x['F'] == str(f)[0:3])])\n",
    "        if pvalue < 0.05:\n",
    "            print(\"Condition \" + \"{:}\".format(k) + \" \" + \"{:}\".format(str(f)[0:3]) +\n",
    "                \". We can reject the null hypothesis (p=\" + \n",
    "                \"{:.2f}\".format(pvalue) + \n",
    "                \"). Therefore, data is not normally distributed.\")\n",
    "            not_normal_count = not_normal_count + 1\n",
    "        else:\n",
    "            print(\"Condition \" + \"{:}\".format(k) + \" \" + \"{:}\".format(str(f)[0:3]) +\n",
    "                \". We cannot reject the null hypothesis (p=\" + \n",
    "                \"{:.2f}\".format(pvalue) + \n",
    "                \"). Therefore, data is normally distributed.\")\n",
    "            normal_count = normal_count + 1\n",
    "print(normal_count)\n",
    "print(not_normal_count)"
   ]
  },
  {
   "cell_type": "code",
   "execution_count": 31,
   "metadata": {},
   "outputs": [
    {
     "data": {
      "text/plain": [
       "<AxesSubplot:>"
      ]
     },
     "execution_count": 31,
     "metadata": {},
     "output_type": "execute_result"
    },
    {
     "data": {
      "image/png": "[encoded data removed]",
      "text/plain": [
       "<Figure size 432x288 with 1 Axes>"
      ]
     },
     "metadata": {
      "needs_background": "light"
     },
     "output_type": "display_data"
    }
   ],
   "source": [
    "#WRONG! Plot this or the QQ plot\n",
    "sns.kdeplot(data=df, x=[int(j) for j in df['k']], y=[float(i) for i in df['avg_profit']], fill=True)"
   ]
  },
  {
   "cell_type": "markdown",
   "metadata": {},
   "source": [
    "### Hypothesis testing"
   ]
  },
  {
   "cell_type": "markdown",
   "metadata": {},
   "source": [
    "##### ANOVA"
   ]
  },
  {
   "cell_type": "code",
   "execution_count": 6,
   "metadata": {},
   "outputs": [
    {
     "name": "stdout",
     "output_type": "stream",
     "text": [
      "Empty DataFrame\n",
      "Columns: [4, 8, 16, 32, 64, 128, 256, 512, 1024]\n",
      "Index: []\n"
     ]
    },
    {
     "data": {
      "text/html": [
       "<div>\n",
       "<style scoped>\n",
       "    .dataframe tbody tr th:only-of-type {\n",
       "        vertical-align: middle;\n",
       "    }\n",
       "\n",
       "    .dataframe tbody tr th {\n",
       "        vertical-align: top;\n",
       "    }\n",
       "\n",
       "    .dataframe thead th {\n",
       "        text-align: right;\n",
       "    }\n",
       "</style>\n",
       "<table border=\"1\" class=\"dataframe\">\n",
       "  <thead>\n",
       "    <tr style=\"text-align: right;\">\n",
       "      <th></th>\n",
       "      <th>4</th>\n",
       "      <th>8</th>\n",
       "      <th>16</th>\n",
       "      <th>32</th>\n",
       "      <th>64</th>\n",
       "      <th>128</th>\n",
       "      <th>256</th>\n",
       "      <th>512</th>\n",
       "      <th>1024</th>\n",
       "    </tr>\n",
       "  </thead>\n",
       "  <tbody>\n",
       "    <tr>\n",
       "      <th>0</th>\n",
       "      <td>286.4</td>\n",
       "      <td>229.7</td>\n",
       "      <td>399.2</td>\n",
       "      <td>309.6</td>\n",
       "      <td>241.7</td>\n",
       "      <td>472.7</td>\n",
       "      <td>730.8</td>\n",
       "      <td>436.1</td>\n",
       "      <td>109.8</td>\n",
       "    </tr>\n",
       "    <tr>\n",
       "      <th>1</th>\n",
       "      <td>277.4</td>\n",
       "      <td>729.3</td>\n",
       "      <td>148.6</td>\n",
       "      <td>857.5</td>\n",
       "      <td>405.1</td>\n",
       "      <td>358.3</td>\n",
       "      <td>654.4</td>\n",
       "      <td>418.0</td>\n",
       "      <td>288.3</td>\n",
       "    </tr>\n",
       "    <tr>\n",
       "      <th>2</th>\n",
       "      <td>185.8</td>\n",
       "      <td>305.5</td>\n",
       "      <td>247.9</td>\n",
       "      <td>443.5</td>\n",
       "      <td>514.2</td>\n",
       "      <td>138.0</td>\n",
       "      <td>203.8</td>\n",
       "      <td>330.9</td>\n",
       "      <td>595.7</td>\n",
       "    </tr>\n",
       "    <tr>\n",
       "      <th>3</th>\n",
       "      <td>413.3</td>\n",
       "      <td>420.1</td>\n",
       "      <td>65.5</td>\n",
       "      <td>658.8</td>\n",
       "      <td>503.8</td>\n",
       "      <td>363.6</td>\n",
       "      <td>83.8</td>\n",
       "      <td>179.1</td>\n",
       "      <td>366.3</td>\n",
       "    </tr>\n",
       "    <tr>\n",
       "      <th>4</th>\n",
       "      <td>145.9</td>\n",
       "      <td>326.8</td>\n",
       "      <td>633.0</td>\n",
       "      <td>538.8</td>\n",
       "      <td>335.1</td>\n",
       "      <td>135.0</td>\n",
       "      <td>317.1</td>\n",
       "      <td>458.7</td>\n",
       "      <td>378.4</td>\n",
       "    </tr>\n",
       "  </tbody>\n",
       "</table>\n",
       "</div>"
      ],
      "text/plain": [
       "    4      8      16     32     64     128    256    512    1024\n",
       "0  286.4  229.7  399.2  309.6  241.7  472.7  730.8  436.1  109.8\n",
       "1  277.4  729.3  148.6  857.5  405.1  358.3  654.4  418.0  288.3\n",
       "2  185.8  305.5  247.9  443.5  514.2  138.0  203.8  330.9  595.7\n",
       "3  413.3  420.1   65.5  658.8  503.8  363.6   83.8  179.1  366.3\n",
       "4  145.9  326.8  633.0  538.8  335.1  135.0  317.1  458.7  378.4"
      ]
     },
     "execution_count": 6,
     "metadata": {},
     "output_type": "execute_result"
    }
   ],
   "source": [
    "by_ks = pd.DataFrame(columns=k_range)\n",
    "print(by_ks)\n",
    "temp = []\n",
    "for i in k_range:\n",
    "    for x in df.iloc:\n",
    "        if x['k'] == str(i):\n",
    "            temp.append(x['avg_profit1'])\n",
    "    by_ks[i] = temp\n",
    "    temp = []\n",
    "\n",
    "by_ks.head()"
   ]
  },
  {
   "cell_type": "code",
   "execution_count": 7,
   "metadata": {},
   "outputs": [
    {
     "name": "stdout",
     "output_type": "stream",
     "text": [
      "Empty DataFrame\n",
      "Columns: [0.0, 0.2, 0.4, 0.6, 0.8, 1.1, 1.3, 1.5, 1.7, 2.0]\n",
      "Index: []\n"
     ]
    },
    {
     "data": {
      "text/html": [
       "<div>\n",
       "<style scoped>\n",
       "    .dataframe tbody tr th:only-of-type {\n",
       "        vertical-align: middle;\n",
       "    }\n",
       "\n",
       "    .dataframe tbody tr th {\n",
       "        vertical-align: top;\n",
       "    }\n",
       "\n",
       "    .dataframe thead th {\n",
       "        text-align: right;\n",
       "    }\n",
       "</style>\n",
       "<table border=\"1\" class=\"dataframe\">\n",
       "  <thead>\n",
       "    <tr style=\"text-align: right;\">\n",
       "      <th></th>\n",
       "      <th>0.0</th>\n",
       "      <th>0.2</th>\n",
       "      <th>0.4</th>\n",
       "      <th>0.6</th>\n",
       "      <th>0.8</th>\n",
       "      <th>1.1</th>\n",
       "      <th>1.3</th>\n",
       "      <th>1.5</th>\n",
       "      <th>1.7</th>\n",
       "      <th>2.0</th>\n",
       "    </tr>\n",
       "  </thead>\n",
       "  <tbody>\n",
       "    <tr>\n",
       "      <th>0</th>\n",
       "      <td>286.4</td>\n",
       "      <td>277.4</td>\n",
       "      <td>185.8</td>\n",
       "      <td>413.3</td>\n",
       "      <td>145.9</td>\n",
       "      <td>401.6</td>\n",
       "      <td>448.3</td>\n",
       "      <td>383.5</td>\n",
       "      <td>290.3</td>\n",
       "      <td>116.0</td>\n",
       "    </tr>\n",
       "    <tr>\n",
       "      <th>1</th>\n",
       "      <td>229.7</td>\n",
       "      <td>729.3</td>\n",
       "      <td>305.5</td>\n",
       "      <td>420.1</td>\n",
       "      <td>326.8</td>\n",
       "      <td>232.5</td>\n",
       "      <td>324.7</td>\n",
       "      <td>307.7</td>\n",
       "      <td>346.7</td>\n",
       "      <td>234.7</td>\n",
       "    </tr>\n",
       "    <tr>\n",
       "      <th>2</th>\n",
       "      <td>399.2</td>\n",
       "      <td>148.6</td>\n",
       "      <td>247.9</td>\n",
       "      <td>65.5</td>\n",
       "      <td>633.0</td>\n",
       "      <td>446.6</td>\n",
       "      <td>132.5</td>\n",
       "      <td>254.5</td>\n",
       "      <td>440.1</td>\n",
       "      <td>716.6</td>\n",
       "    </tr>\n",
       "    <tr>\n",
       "      <th>3</th>\n",
       "      <td>309.6</td>\n",
       "      <td>857.5</td>\n",
       "      <td>443.5</td>\n",
       "      <td>658.8</td>\n",
       "      <td>538.8</td>\n",
       "      <td>183.8</td>\n",
       "      <td>279.9</td>\n",
       "      <td>116.3</td>\n",
       "      <td>321.4</td>\n",
       "      <td>424.3</td>\n",
       "    </tr>\n",
       "    <tr>\n",
       "      <th>4</th>\n",
       "      <td>241.7</td>\n",
       "      <td>405.1</td>\n",
       "      <td>514.2</td>\n",
       "      <td>503.8</td>\n",
       "      <td>335.1</td>\n",
       "      <td>414.0</td>\n",
       "      <td>254.8</td>\n",
       "      <td>499.7</td>\n",
       "      <td>250.9</td>\n",
       "      <td>238.8</td>\n",
       "    </tr>\n",
       "  </tbody>\n",
       "</table>\n",
       "</div>"
      ],
      "text/plain": [
       "     0.0    0.2    0.4    0.6    0.8    1.1    1.3    1.5    1.7    2.0\n",
       "0  286.4  277.4  185.8  413.3  145.9  401.6  448.3  383.5  290.3  116.0\n",
       "1  229.7  729.3  305.5  420.1  326.8  232.5  324.7  307.7  346.7  234.7\n",
       "2  399.2  148.6  247.9   65.5  633.0  446.6  132.5  254.5  440.1  716.6\n",
       "3  309.6  857.5  443.5  658.8  538.8  183.8  279.9  116.3  321.4  424.3\n",
       "4  241.7  405.1  514.2  503.8  335.1  414.0  254.8  499.7  250.9  238.8"
      ]
     },
     "execution_count": 7,
     "metadata": {},
     "output_type": "execute_result"
    }
   ],
   "source": [
    "F_range = [float(str(j)[0:3]) for j in F_range]\n",
    "by_fs = pd.DataFrame(columns=F_range)\n",
    "print(by_fs)\n",
    "temp = []\n",
    "for i in F_range:\n",
    "    for x in df.iloc:\n",
    "        if x['F'] == str(i):\n",
    "            temp.append(x['avg_profit1'])\n",
    "    by_fs[i] = temp\n",
    "    temp = []\n",
    "\n",
    "by_fs.head()"
   ]
  },
  {
   "cell_type": "code",
   "execution_count": 7,
   "metadata": {},
   "outputs": [
    {
     "name": "stdout",
     "output_type": "stream",
     "text": [
      "ANOVA: (p=0.71 > 0.05). Cannot reject null hypothesis that groups have same population mean.\n"
     ]
    }
   ],
   "source": [
    "\n",
    "statistic, pvalue = stats.f_oneway(by_ks[4], by_ks[8],by_ks[16],by_ks[32], by_ks[64], by_ks[128], by_ks[256], by_ks[512], by_ks[1024])\n",
    "if pvalue < 0.05:\n",
    "    print(\"ANOVA: (p=\" + \"{:.2f}\".format(pvalue) + \n",
    "          \" < 0.05). Reject null. The groups have a \" +\n",
    "          \"different population mean.\") \n",
    "else:\n",
    "    print(\"ANOVA: (p=\" + \"{:.2f}\".format(pvalue) + \n",
    "          \" > 0.05). Cannot reject null hypothesis \" + \n",
    "          \"that groups have same population mean.\")"
   ]
  },
  {
   "cell_type": "code",
   "execution_count": 8,
   "metadata": {},
   "outputs": [
    {
     "name": "stdout",
     "output_type": "stream",
     "text": [
      "ANOVA: (p=0.67 > 0.05). Cannot reject null hypothesis that groups have same population mean.\n"
     ]
    }
   ],
   "source": [
    "\n",
    "statistic, pvalue = stats.f_oneway(by_fs[0.0], by_fs[0.2], by_fs[0.4], by_fs[0.6], by_fs[0.8], by_fs[1.1], by_fs[1.3], by_fs[1.5], by_fs[1.7], by_fs[2.0])\n",
    "if pvalue < 0.05:\n",
    "    print(\"ANOVA: (p=\" + \"{:.2f}\".format(pvalue) + \n",
    "          \" < 0.05). Reject null. The groups have a \" +\n",
    "          \"different population mean.\") \n",
    "else:\n",
    "    print(\"ANOVA: (p=\" + \"{:.2f}\".format(pvalue) + \n",
    "          \" > 0.05). Cannot reject null hypothesis \" + \n",
    "          \"that groups have same population mean.\")"
   ]
  },
  {
   "cell_type": "markdown",
   "metadata": {},
   "source": [
    "##### Kruskal-Wallis"
   ]
  },
  {
   "cell_type": "code",
   "execution_count": 8,
   "metadata": {},
   "outputs": [
    {
     "name": "stdout",
     "output_type": "stream",
     "text": [
      "KW: (p=0.73 > 0.05). Cannot reject null hypothesis that groups have same population mean.\n"
     ]
    }
   ],
   "source": [
    "statistics, pvalue = stats.kruskal(by_ks[4], by_ks[8],by_ks[16],by_ks[32], by_ks[64], by_ks[128], by_ks[256], by_ks[512], by_ks[1024])\n",
    "if pvalue < 0.05:\n",
    "    print(\"KW: (p=\" + \"{:.2f}\".format(pvalue) + \n",
    "          \" < 0.05). Reject null. The groups have a \" +\n",
    "          \"different population mean.\") \n",
    "else:\n",
    "    print(\"KW: (p=\" + \"{:.2f}\".format(pvalue) + \n",
    "          \" > 0.05). Cannot reject null hypothesis \" + \n",
    "          \"that groups have same population mean.\")"
   ]
  },
  {
   "cell_type": "code",
   "execution_count": 9,
   "metadata": {},
   "outputs": [
    {
     "name": "stdout",
     "output_type": "stream",
     "text": [
      "KW: (p=0.74 > 0.05). Cannot reject null hypothesis that groups have same population mean.\n"
     ]
    }
   ],
   "source": [
    "statistics, pvalue =  stats.kruskal(by_fs[0.0], by_fs[0.2], by_fs[0.4], by_fs[0.6], by_fs[0.8], by_fs[1.1], by_fs[1.3], by_fs[1.5], by_fs[1.7], by_fs[2.0])\n",
    "if pvalue < 0.05:\n",
    "    print(\"KW: (p=\" + \"{:.2f}\".format(pvalue) + \n",
    "          \" < 0.05). Reject null. The groups have a \" +\n",
    "          \"different population mean.\") \n",
    "else:\n",
    "    print(\"KW: (p=\" + \"{:.2f}\".format(pvalue) + \n",
    "          \" > 0.05). Cannot reject null hypothesis \" + \n",
    "          \"that groups have same population mean.\")"
   ]
  }
 ],
 "metadata": {
  "kernelspec": {
   "display_name": "Python 3.8.5 ('base')",
   "language": "python",
   "name": "python3"
  },
  "language_info": {
   "codemirror_mode": {
    "name": "ipython",
    "version": 3
   },
   "file_extension": ".py",
   "mimetype": "text/x-python",
   "name": "python",
   "nbconvert_exporter": "python",
   "pygments_lexer": "ipython3",
   "version": "3.8.5"
  },
  "orig_nbformat": 4,
  "vscode": {
   "interpreter": {
    "hash": "e7ec9c76871ceede5c05bdff64cb50b88b78e28a1db20152a31beee30522d330"
   }
  }
 },
 "nbformat": 4,
 "nbformat_minor": 2
}
