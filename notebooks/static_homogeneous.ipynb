{
 "cells": [
  {
   "cell_type": "markdown",
   "metadata": {},
   "source": [
    "## Static Homogeneneous Market\n",
    "This experiment is mostly conducted for validation and reference, for this reason the environment is simpler than in the subsequent experiments.\n",
    "In this notebook I run multiple market sessions populated symetrically with PRDE traders (30B/30S, just like https://papers.ssrn.com/sol3/papers.cfm?abstract_id=4153519, the original study on PRDE performance). The sessions implement a periodic order schedule (\"timemode\"), fixed spacing in the price distribution (\"stepmode\") for reduced randomness and increased reproducibility. Each market session lasts 5 min, but could be changed to last for example the same time as a trading day at the London Stock Exchange (8h 30min). \n",
    "The PRDE traders have varying k and F parameter values. Each combination is tested 10 times. The k ranges from 4 to 1000 (https://link.springer.com/chapter/10.1007/978-3-030-37838-7_3 found the best perfomance at k = 400, https://www.researchgate.net/post/What_is_the_optimal_recommended_population_size_for_differential_evolution2) and the F lies between 0 and 2."
   ]
  },
  {
   "cell_type": "code",
   "execution_count": 1,
   "metadata": {},
   "outputs": [],
   "source": [
    "import matplotlib.pyplot as plt\n",
    "import numpy as np\n",
    "import csv\n",
    "import math\n",
    "import random\n",
    "\n",
    "import scipy as sp\n",
    "from scipy import stats\n",
    "import seaborn as sns \n",
    "import matplotlib.pyplot as plt \n",
    "import statsmodels.api as sm\n",
    "import pandas as pd\n",
    "\n",
    "import BSE\n",
    "import helpers"
   ]
  },
  {
   "cell_type": "code",
   "execution_count": 2,
   "metadata": {},
   "outputs": [],
   "source": [
    "def static_homogeneous_session(k, F, trial_id_str, csv_str):\n",
    "    # First, configure the trader specifications\n",
    "    sellers_spec = [('PRDE', 30, {'k': k, 's_min': -1.0, 's_max': +1.0, 'F': F})]\n",
    "    buyers_spec = sellers_spec\n",
    "    traders_spec = {'sellers':sellers_spec, 'buyers':buyers_spec}\n",
    "\n",
    "    # Next, confiure the supply and demand (and plot it)\n",
    "    sup_range = (100, 200)\n",
    "    dem_range = sup_range\n",
    "\n",
    "    # Next, configure order schedules\n",
    "\n",
    "    start_time = 0\n",
    "    end_time = 60 * 5\n",
    "    supply_schedule = [{'from': start_time, 'to': end_time, 'ranges': [sup_range], 'stepmode': 'fixed'}]\n",
    "    demand_schedule = [{'from': start_time, 'to': end_time, 'ranges': [dem_range], 'stepmode': 'fixed'}]\n",
    "\n",
    "    order_interval = 5\n",
    "    order_sched = {'sup': supply_schedule, 'dem': demand_schedule,\n",
    "               'interval': order_interval, 'timemode': 'periodic'}\n",
    "\n",
    "    trial_id = trial_id_str\n",
    "    tdump = open(csv_str,'w')\n",
    "    dump_all = False\n",
    "    verbose = False\n",
    "\n",
    "    # Now, run the market session\n",
    "    BSE.market_session(trial_id, start_time, end_time, traders_spec, order_sched, tdump, dump_all, verbose)\n",
    "\n",
    "    tdump.close()"
   ]
  },
  {
   "cell_type": "code",
   "execution_count": 19,
   "metadata": {},
   "outputs": [
    {
     "name": "stdout",
     "output_type": "stream",
     "text": [
      "[0.]\n"
     ]
    }
   ],
   "source": [
    "#powers of 2 from 4 to 1024 or however much it would be\n",
    "k_range = np.logspace(1, 10, num=10, base=2)\n",
    "k_range = k_range[1:10]\n",
    "k_range = k_range.astype(int)\n",
    "#0 to 2 intervals of 0.2\n",
    "F_range = np.linspace(0.0, 2.0, 10)"
   ]
  },
  {
   "cell_type": "code",
   "execution_count": 20,
   "metadata": {},
   "outputs": [],
   "source": [
    "def loop_kF(n, m, trial_id_str, csv_str):\n",
    "    i = 4\n",
    "    for i in n:\n",
    "        for j in m:\n",
    "            static_homogeneous_session(i, j, trial_id_str + '_' + str(i) + '_' + str(j)[0:3], csv_str + '_' + str(i) + '_' + str(j)[0:3] + '.csv')\n",
    "        \n",
    "\n",
    "   "
   ]
  },
  {
   "cell_type": "code",
   "execution_count": 21,
   "metadata": {},
   "outputs": [],
   "source": [
    "random.seed(2)\n",
    "i = 0\n",
    "while i < 10:\n",
    "    loop_kF(k_range, F_range, 'shom_' + str(i), 'shom_avg_bal_' + str(i))\n",
    "    i = i+1\n",
    "\n"
   ]
  }
 ],
 "metadata": {
  "kernelspec": {
   "display_name": "Python 3.8.5 ('base')",
   "language": "python",
   "name": "python3"
  },
  "language_info": {
   "codemirror_mode": {
    "name": "ipython",
    "version": 3
   },
   "file_extension": ".py",
   "mimetype": "text/x-python",
   "name": "python",
   "nbconvert_exporter": "python",
   "pygments_lexer": "ipython3",
   "version": "3.8.5"
  },
  "orig_nbformat": 4,
  "vscode": {
   "interpreter": {
    "hash": "e7ec9c76871ceede5c05bdff64cb50b88b78e28a1db20152a31beee30522d330"
   }
  }
 },
 "nbformat": 4,
 "nbformat_minor": 2
}
