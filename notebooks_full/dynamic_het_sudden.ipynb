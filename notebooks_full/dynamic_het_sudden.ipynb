{
 "cells": [
  {
   "cell_type": "markdown",
   "metadata": {},
   "source": [
    "## Dynamic Heterogeneous Market with Sudden Changes in the Equillibrium\n",
    "The heterogeneously populated market sessions are meant to simulate PRDE performance in a real world trading exchange, including the dynamic nature of the price equillibrium. Therefore in this notebook I run multiple market sessions populated symetrically with multiple types of traders for realism (like https://arxiv.org/pdf/2208.02901.pdf), including PRDE (30B/30S, just like https://papers.ssrn.com/sol3/papers.cfm?abstract_id=4153519, the original study on PRDE performance). The sessions implement a Poisson distribution order schedule (\"timemode\") like a real market, fixed spacing in the price distribution (\"stepmode\") for reduced randomness and increased reproducibility. Each market session lasts 5 min, but could be changed to last for example the same time as a trading day at the London Stock Exchange (8h 30min). \n",
    "The PRDE traders have varying k and F parameter values. Each combination is tested 10 times. The k ranges from 4 to 1024 (https://link.springer.com/chapter/10.1007/978-3-030-37838-7_3 found the best perfomance at k = 400) and the F lies between 0 and 2.\n",
    "Additionally, the experiment is conducted in a market with suddenly changing supply and demand curves."
   ]
  },
  {
   "cell_type": "code",
   "execution_count": 1,
   "metadata": {},
   "outputs": [],
   "source": [
    "import matplotlib.pyplot as plt\n",
    "import numpy as np\n",
    "import csv\n",
    "import math\n",
    "import random\n",
    "\n",
    "import scipy as sp\n",
    "from scipy import stats\n",
    "import seaborn as sns \n",
    "import matplotlib.pyplot as plt \n",
    "import statsmodels.api as sm\n",
    "import pandas as pd\n",
    "\n",
    "import BSE\n",
    "import helpers\n",
    "\n",
    "\n",
    "def offset_t(t):\n",
    "    return int(round(t/10,0))\n",
    "\n",
    "def dynamic_heterogeneous_session_sud(k, F, trial_id_str, csv_str):\n",
    "    # First, configure the trader specifications\n",
    "    sellers_spec = [('PRDE', 5, {'k': k, 's_min': -1.0, 's_max': +1.0, 'F': F}), ('ZIC', 5), ('ZIP', 5), ('GVWY', 5), ('SHVR', 5) , ('SNPR', 5)]\n",
    "    buyers_spec = sellers_spec\n",
    "    traders_spec = {'sellers':sellers_spec, 'buyers':buyers_spec}\n",
    "\n",
    "    # Next, confiure the supply and demand (and plot it)\n",
    "    range1 = (100, 200, offset_t)\n",
    "    range2 = (300, 400)\n",
    "    range3 = range1\n",
    "\n",
    "    # Next, configure order schedules\n",
    "    start_time = 0\n",
    "    change1_time = 60 * 2\n",
    "    change2_time = 60 * 3\n",
    "    end_time = 60 * 5\n",
    "    supply_schedule = [{'from': start_time, 'to': change1_time, 'ranges': [range1], 'stepmode': 'fixed'},\n",
    "                   {'from': change1_time, 'to': change2_time, 'ranges': [range2], 'stepmode': 'fixed'},\n",
    "                   {'from': change2_time, 'to': end_time, 'ranges': [range1], 'stepmode': 'fixed'}]\n",
    "    demand_schedule = supply_schedule\n",
    "\n",
    "\n",
    "    order_interval = 5\n",
    "    order_sched = {'sup': supply_schedule, 'dem': demand_schedule,\n",
    "               'interval': order_interval, 'timemode': 'drip-poisson'}\n",
    "\n",
    "    trial_id = trial_id_str\n",
    "    tdump = open(csv_str,'w')\n",
    "    dump_all = False\n",
    "    verbose = False\n",
    "\n",
    "    # Now, run the market session\n",
    "    BSE.market_session(trial_id, start_time, end_time, traders_spec, order_sched, tdump, dump_all, verbose)\n",
    "\n",
    "    tdump.close()\n",
    "\n",
    "\n",
    "    #powers of 2 from 4 to 1024 or however much it would be\n",
    "k_range = np.logspace(1, 10, num=10, base=2)\n",
    "k_range = k_range[1:10]\n",
    "k_range = k_range.astype(int)\n",
    "#0 to 2 intervals of 0.2\n",
    "F_range = np.linspace(0.0, 2.0, 10)\n",
    "\n",
    "\n",
    "def loop_kF(n, m, trial_id_str, csv_str):\n",
    "    i = 4\n",
    "    for i in n:\n",
    "        for j in m:\n",
    "            dynamic_heterogeneous_session_sud(i, j, trial_id_str + '_' + str(i) + '_' + str(j)[0:3], csv_str + '_' + str(i) + '_' + str(j)[0:3] + '.csv')\n",
    "        \n",
    "\n",
    "   "
   ]
  },
  {
   "cell_type": "code",
   "execution_count": 2,
   "metadata": {},
   "outputs": [
    {
     "data": {
      "image/png": "[encoded data removed]",
      "text/plain": [
       "<Figure size 432x288 with 1 Axes>"
      ]
     },
     "metadata": {
      "needs_background": "light"
     },
     "output_type": "display_data"
    },
    {
     "data": {
      "image/png": "[encoded data removed]",
      "text/plain": [
       "<Figure size 432x288 with 1 Axes>"
      ]
     },
     "metadata": {
      "needs_background": "light"
     },
     "output_type": "display_data"
    }
   ],
   "source": [
    "helpers.plot_sup_dem(30, [(100, 200, offset_t)], 30,[(100, 200, offset_t)], 'fixed')\n",
    "def offset_filler(t):\n",
    "    return 1\n",
    "helpers.plot_offset_and_sd([(100, 200, offset_t), (300, 400), (100, 200, offset_t)], [offset_t, offset_filler, offset_t], [2*60, 1*60, 2*60], 5*60)"
   ]
  },
  {
   "cell_type": "code",
   "execution_count": 2,
   "metadata": {},
   "outputs": [],
   "source": [
    "random.seed(2)\n",
    "i = 0\n",
    "while i < 10:\n",
    "    loop_kF(k_range, F_range, 'dhets_' + str(i), 'dhets_avg_bal_' + str(i))\n",
    "    i = i+1\n"
   ]
  }
 ],
 "metadata": {
  "kernelspec": {
   "display_name": "Python 3.8.5 ('base')",
   "language": "python",
   "name": "python3"
  },
  "language_info": {
   "codemirror_mode": {
    "name": "ipython",
    "version": 3
   },
   "file_extension": ".py",
   "mimetype": "text/x-python",
   "name": "python",
   "nbconvert_exporter": "python",
   "pygments_lexer": "ipython3",
   "version": "3.8.5"
  },
  "orig_nbformat": 4,
  "vscode": {
   "interpreter": {
    "hash": "e7ec9c76871ceede5c05bdff64cb50b88b78e28a1db20152a31beee30522d330"
   }
  }
 },
 "nbformat": 4,
 "nbformat_minor": 2
}
